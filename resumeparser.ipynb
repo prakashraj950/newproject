{
  "nbformat": 4,
  "nbformat_minor": 0,
  "metadata": {
    "colab": {
      "name": "resumeparser.ipynb",
      "provenance": [],
      "collapsed_sections": [],
      "mount_file_id": "16ligfYtgIMUySv-PjBm0GC0WX7PgQtFi",
      "authorship_tag": "ABX9TyM69WgCiDPC9+/lwGq9wV0Z",
      "include_colab_link": true
    },
    "kernelspec": {
      "name": "python3",
      "display_name": "Python 3"
    }
  },
  "cells": [
    {
      "cell_type": "markdown",
      "metadata": {
        "id": "view-in-github",
        "colab_type": "text"
      },
      "source": [
        "<a href=\"https://colab.research.google.com/github/prakashraj950/prakash.newrepository/blob/javascript/resumeparser.ipynb\" target=\"_parent\"><img src=\"https://colab.research.google.com/assets/colab-badge.svg\" alt=\"Open In Colab\"/></a>"
      ]
    },
    {
      "cell_type": "code",
      "metadata": {
        "colab": {
          "base_uri": "https://localhost:8080/"
        },
        "id": "NXzgbpSrJz4v",
        "outputId": "ff3cfcdc-83c9-4661-ea59-35df2262ddbd"
      },
      "source": [
        "pip install pyresparser"
      ],
      "execution_count": 18,
      "outputs": [
        {
          "output_type": "stream",
          "text": [
            "Requirement already satisfied: pyresparser in /usr/local/lib/python3.6/dist-packages (1.0.6)\n",
            "Requirement already satisfied: preshed>=2.0.1 in /usr/local/lib/python3.6/dist-packages (from pyresparser) (3.0.5)\n",
            "Requirement already satisfied: python-dateutil>=2.8.0 in /usr/local/lib/python3.6/dist-packages (from pyresparser) (2.8.1)\n",
            "Requirement already satisfied: tqdm>=4.32.2 in /usr/local/lib/python3.6/dist-packages (from pyresparser) (4.41.1)\n",
            "Requirement already satisfied: six>=1.12.0 in /usr/local/lib/python3.6/dist-packages (from pyresparser) (1.15.0)\n",
            "Requirement already satisfied: wasabi>=0.2.2 in /usr/local/lib/python3.6/dist-packages (from pyresparser) (0.8.2)\n",
            "Requirement already satisfied: pandas>=0.24.2 in /usr/local/lib/python3.6/dist-packages (from pyresparser) (1.1.5)\n",
            "Requirement already satisfied: nltk>=3.4.3 in /usr/local/lib/python3.6/dist-packages (from pyresparser) (3.5)\n",
            "Requirement already satisfied: idna>=2.8 in /usr/local/lib/python3.6/dist-packages (from pyresparser) (2.10)\n",
            "Requirement already satisfied: numpy>=1.16.4 in /usr/local/lib/python3.6/dist-packages (from pyresparser) (1.19.5)\n",
            "Requirement already satisfied: spacy>=2.1.4 in /usr/local/lib/python3.6/dist-packages (from pyresparser) (2.2.4)\n",
            "Requirement already satisfied: pytz>=2019.1 in /usr/local/lib/python3.6/dist-packages (from pyresparser) (2021.1)\n",
            "Requirement already satisfied: attrs>=19.1.0 in /usr/local/lib/python3.6/dist-packages (from pyresparser) (20.3.0)\n",
            "Requirement already satisfied: certifi>=2019.6.16 in /usr/local/lib/python3.6/dist-packages (from pyresparser) (2020.12.5)\n",
            "Requirement already satisfied: docx2txt>=0.7 in /usr/local/lib/python3.6/dist-packages (from pyresparser) (0.8)\n",
            "Requirement already satisfied: pdfminer.six>=20181108 in /usr/local/lib/python3.6/dist-packages (from pyresparser) (20201018)\n",
            "Requirement already satisfied: pyrsistent>=0.15.2 in /usr/local/lib/python3.6/dist-packages (from pyresparser) (0.17.3)\n",
            "Requirement already satisfied: sortedcontainers>=2.1.0 in /usr/local/lib/python3.6/dist-packages (from pyresparser) (2.3.0)\n",
            "Requirement already satisfied: srsly>=0.0.7 in /usr/local/lib/python3.6/dist-packages (from pyresparser) (1.0.5)\n",
            "Requirement already satisfied: urllib3>=1.25.3 in /usr/local/lib/python3.6/dist-packages (from pyresparser) (1.26.3)\n",
            "Requirement already satisfied: thinc>=7.0.4 in /usr/local/lib/python3.6/dist-packages (from pyresparser) (7.4.0)\n",
            "Requirement already satisfied: jsonschema>=3.0.1 in /usr/local/lib/python3.6/dist-packages (from pyresparser) (3.2.0)\n",
            "Requirement already satisfied: cymem>=2.0.2 in /usr/local/lib/python3.6/dist-packages (from pyresparser) (2.0.5)\n",
            "Requirement already satisfied: chardet>=3.0.4 in /usr/local/lib/python3.6/dist-packages (from pyresparser) (3.0.4)\n",
            "Requirement already satisfied: pycryptodome>=3.8.2 in /usr/local/lib/python3.6/dist-packages (from pyresparser) (3.10.1)\n",
            "Requirement already satisfied: blis>=0.2.4 in /usr/local/lib/python3.6/dist-packages (from pyresparser) (0.4.1)\n",
            "Requirement already satisfied: requests>=2.22.0 in /usr/local/lib/python3.6/dist-packages (from pyresparser) (2.23.0)\n",
            "Requirement already satisfied: murmurhash<1.1.0,>=0.28.0 in /usr/local/lib/python3.6/dist-packages (from preshed>=2.0.1->pyresparser) (1.0.5)\n",
            "Requirement already satisfied: joblib in /usr/local/lib/python3.6/dist-packages (from nltk>=3.4.3->pyresparser) (1.0.0)\n",
            "Requirement already satisfied: regex in /usr/local/lib/python3.6/dist-packages (from nltk>=3.4.3->pyresparser) (2019.12.20)\n",
            "Requirement already satisfied: click in /usr/local/lib/python3.6/dist-packages (from nltk>=3.4.3->pyresparser) (7.1.2)\n",
            "Requirement already satisfied: setuptools in /usr/local/lib/python3.6/dist-packages (from spacy>=2.1.4->pyresparser) (53.0.0)\n",
            "Requirement already satisfied: plac<1.2.0,>=0.9.6 in /usr/local/lib/python3.6/dist-packages (from spacy>=2.1.4->pyresparser) (1.1.3)\n",
            "Requirement already satisfied: catalogue<1.1.0,>=0.0.7 in /usr/local/lib/python3.6/dist-packages (from spacy>=2.1.4->pyresparser) (1.0.0)\n",
            "Requirement already satisfied: cryptography in /usr/local/lib/python3.6/dist-packages (from pdfminer.six>=20181108->pyresparser) (3.4.4)\n",
            "Requirement already satisfied: importlib-metadata; python_version < \"3.8\" in /usr/local/lib/python3.6/dist-packages (from jsonschema>=3.0.1->pyresparser) (3.4.0)\n",
            "Requirement already satisfied: cffi>=1.12 in /usr/local/lib/python3.6/dist-packages (from cryptography->pdfminer.six>=20181108->pyresparser) (1.14.4)\n",
            "Requirement already satisfied: typing-extensions>=3.6.4; python_version < \"3.8\" in /usr/local/lib/python3.6/dist-packages (from importlib-metadata; python_version < \"3.8\"->jsonschema>=3.0.1->pyresparser) (3.7.4.3)\n",
            "Requirement already satisfied: zipp>=0.5 in /usr/local/lib/python3.6/dist-packages (from importlib-metadata; python_version < \"3.8\"->jsonschema>=3.0.1->pyresparser) (3.4.0)\n",
            "Requirement already satisfied: pycparser in /usr/local/lib/python3.6/dist-packages (from cffi>=1.12->cryptography->pdfminer.six>=20181108->pyresparser) (2.20)\n"
          ],
          "name": "stdout"
        }
      ]
    },
    {
      "cell_type": "code",
      "metadata": {
        "colab": {
          "base_uri": "https://localhost:8080/",
          "height": 615
        },
        "id": "u323riC_R6a0",
        "outputId": "f832b5df-bc86-4aeb-bdf6-9e766fa68498"
      },
      "source": [
        "pip install spacy"
      ],
      "execution_count": 25,
      "outputs": [
        {
          "output_type": "stream",
          "text": [
            "Requirement already satisfied: spacy in /usr/local/lib/python3.6/dist-packages (2.2.4)\n",
            "Requirement already satisfied: plac<1.2.0,>=0.9.6 in /usr/local/lib/python3.6/dist-packages (from spacy) (1.1.3)\n",
            "Requirement already satisfied: setuptools in /usr/local/lib/python3.6/dist-packages (from spacy) (53.0.0)\n",
            "Requirement already satisfied: requests<3.0.0,>=2.13.0 in /usr/local/lib/python3.6/dist-packages (from spacy) (2.23.0)\n",
            "Requirement already satisfied: murmurhash<1.1.0,>=0.28.0 in /usr/local/lib/python3.6/dist-packages (from spacy) (1.0.5)\n",
            "Requirement already satisfied: thinc==7.4.0 in /usr/local/lib/python3.6/dist-packages (from spacy) (7.4.0)\n",
            "Requirement already satisfied: preshed<3.1.0,>=3.0.2 in /usr/local/lib/python3.6/dist-packages (from spacy) (3.0.5)\n",
            "Requirement already satisfied: catalogue<1.1.0,>=0.0.7 in /usr/local/lib/python3.6/dist-packages (from spacy) (1.0.0)\n",
            "Requirement already satisfied: blis<0.5.0,>=0.4.0 in /usr/local/lib/python3.6/dist-packages (from spacy) (0.4.1)\n",
            "Requirement already satisfied: srsly<1.1.0,>=1.0.2 in /usr/local/lib/python3.6/dist-packages (from spacy) (1.0.5)\n",
            "Requirement already satisfied: numpy>=1.15.0 in /usr/local/lib/python3.6/dist-packages (from spacy) (1.19.5)\n",
            "Requirement already satisfied: tqdm<5.0.0,>=4.38.0 in /usr/local/lib/python3.6/dist-packages (from spacy) (4.41.1)\n",
            "Requirement already satisfied: cymem<2.1.0,>=2.0.2 in /usr/local/lib/python3.6/dist-packages (from spacy) (2.0.5)\n",
            "Requirement already satisfied: wasabi<1.1.0,>=0.4.0 in /usr/local/lib/python3.6/dist-packages (from spacy) (0.8.2)\n",
            "Collecting urllib3!=1.25.0,!=1.25.1,<1.26,>=1.21.1\n",
            "\u001b[?25l  Downloading https://files.pythonhosted.org/packages/56/aa/4ef5aa67a9a62505db124a5cb5262332d1d4153462eb8fd89c9fa41e5d92/urllib3-1.25.11-py2.py3-none-any.whl (127kB)\n",
            "\u001b[K     |████████████████████████████████| 133kB 5.3MB/s \n",
            "\u001b[?25hRequirement already satisfied: certifi>=2017.4.17 in /usr/local/lib/python3.6/dist-packages (from requests<3.0.0,>=2.13.0->spacy) (2020.12.5)\n",
            "Requirement already satisfied: idna<3,>=2.5 in /usr/local/lib/python3.6/dist-packages (from requests<3.0.0,>=2.13.0->spacy) (2.10)\n",
            "Requirement already satisfied: chardet<4,>=3.0.2 in /usr/local/lib/python3.6/dist-packages (from requests<3.0.0,>=2.13.0->spacy) (3.0.4)\n",
            "Requirement already satisfied: importlib-metadata>=0.20; python_version < \"3.8\" in /usr/local/lib/python3.6/dist-packages (from catalogue<1.1.0,>=0.0.7->spacy) (3.4.0)\n",
            "Requirement already satisfied: typing-extensions>=3.6.4; python_version < \"3.8\" in /usr/local/lib/python3.6/dist-packages (from importlib-metadata>=0.20; python_version < \"3.8\"->catalogue<1.1.0,>=0.0.7->spacy) (3.7.4.3)\n",
            "Requirement already satisfied: zipp>=0.5 in /usr/local/lib/python3.6/dist-packages (from importlib-metadata>=0.20; python_version < \"3.8\"->catalogue<1.1.0,>=0.0.7->spacy) (3.4.0)\n",
            "\u001b[31mERROR: datascience 0.10.6 has requirement folium==0.2.1, but you'll have folium 0.8.3 which is incompatible.\u001b[0m\n",
            "Installing collected packages: urllib3\n",
            "  Found existing installation: urllib3 1.26.3\n",
            "    Uninstalling urllib3-1.26.3:\n",
            "      Successfully uninstalled urllib3-1.26.3\n",
            "Successfully installed urllib3-1.25.11\n"
          ],
          "name": "stdout"
        },
        {
          "output_type": "display_data",
          "data": {
            "application/vnd.colab-display-data+json": {
              "pip_warning": {
                "packages": [
                  "urllib3"
                ]
              }
            }
          },
          "metadata": {
            "tags": []
          }
        }
      ]
    },
    {
      "cell_type": "code",
      "metadata": {
        "id": "W0tfOUnWSvb2"
      },
      "source": [
        "import nltk"
      ],
      "execution_count": null,
      "outputs": []
    },
    {
      "cell_type": "code",
      "metadata": {
        "colab": {
          "base_uri": "https://localhost:8080/"
        },
        "id": "I37RfDHaSy1-",
        "outputId": "146f9bb1-97da-460e-9045-933eee515951"
      },
      "source": [
        "from pyresparser import ResumeParser\r\n",
        "data = ResumeParser('/content/drive/MyDrive/CV/PRAKASH CV -2021.docx').get_extracted_data()\r\n",
        "data"
      ],
      "execution_count": 30,
      "outputs": [
        {
          "output_type": "execute_result",
          "data": {
            "text/plain": [
              "{'college_name': None,\n",
              " 'company_names': None,\n",
              " 'degree': ['Bachelor of Science  Department of Physics'],\n",
              " 'designation': None,\n",
              " 'email': 'prakash950288@gmail.com',\n",
              " 'experience': None,\n",
              " 'mobile_number': '9188385637',\n",
              " 'name': 'A. Gnana prakashraj',\n",
              " 'no_of_pages': None,\n",
              " 'skills': ['Chemistry',\n",
              "  'Programming',\n",
              "  'C++',\n",
              "  'Windows',\n",
              "  'Python',\n",
              "  'Photoshop',\n",
              "  'Editing',\n",
              "  'Psychology',\n",
              "  'Presentation',\n",
              "  'Physics',\n",
              "  'Linux',\n",
              "  'Parser',\n",
              "  'Biology',\n",
              "  'Adobe',\n",
              "  'Css',\n",
              "  'Communication',\n",
              "  'Operating systems',\n",
              "  'Html',\n",
              "  'Email',\n",
              "  'Api'],\n",
              " 'total_experience': 0}"
            ]
          },
          "metadata": {
            "tags": []
          },
          "execution_count": 30
        }
      ]
    }
  ]
}